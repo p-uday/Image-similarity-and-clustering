{
 "cells": [
  {
   "cell_type": "code",
   "execution_count": 3,
   "metadata": {},
   "outputs": [],
   "source": [
    "import numpy as np\n",
    "import pickle\n",
    "import random"
   ]
  },
  {
   "cell_type": "code",
   "execution_count": 4,
   "metadata": {},
   "outputs": [],
   "source": [
    "filenames = pickle.load(open('data/filenames-caltech101.pickle', 'rb'))\n",
    "feature_list = pickle.load(open('data/features-caltech101-mobilenet.pickle',\n",
    "                                'rb'))"
   ]
  },
  {
   "cell_type": "code",
   "execution_count": 5,
   "metadata": {},
   "outputs": [],
   "source": [
    "num_images = len(filenames)\n",
    "num_features_per_image = len(feature_list[0])"
   ]
  },
  {
   "cell_type": "markdown",
   "metadata": {},
   "source": [
    "PCA"
   ]
  },
  {
   "cell_type": "code",
   "execution_count": 7,
   "metadata": {},
   "outputs": [],
   "source": [
    "num_feature_dimensions = 100\n",
    "num_feature_dimensions = min(num_images, num_feature_dimensions,\n",
    "                             len(feature_list[0]))"
   ]
  },
  {
   "cell_type": "code",
   "execution_count": 8,
   "metadata": {},
   "outputs": [],
   "source": [
    "from sklearn.decomposition import PCA"
   ]
  },
  {
   "cell_type": "code",
   "execution_count": 9,
   "metadata": {},
   "outputs": [],
   "source": [
    "pca = PCA(n_components=num_feature_dimensions)\n",
    "pca.fit(feature_list)\n",
    "feature_list_compressed = pca.transform(feature_list)\n",
    "feature_list_compressed = feature_list_compressed.tolist()"
   ]
  },
  {
   "cell_type": "code",
   "execution_count": 1,
   "metadata": {},
   "outputs": [],
   "source": [
    "import falconn"
   ]
  },
  {
   "cell_type": "code",
   "execution_count": 10,
   "metadata": {},
   "outputs": [],
   "source": [
    "# Setup different parameters for Falonn\n",
    "parameters = falconn.LSHConstructionParameters()\n",
    "num_tables = 1\n",
    "parameters.l = num_tables\n",
    "parameters.dimension = num_feature_dimensions\n",
    "parameters.distance_function = falconn.DistanceFunction.EuclideanSquared\n",
    "parameters.lsh_family = falconn.LSHFamily.CrossPolytope\n",
    "parameters.num_rotations = 1\n",
    "parameters.num_setup_threads = 1\n",
    "parameters.storage_hash_table = falconn.StorageHashTable.BitPackedFlatHashTable\n",
    "\n",
    "# Train the Falconn model\n",
    "falconn.compute_number_of_hash_functions(16, parameters)"
   ]
  },
  {
   "cell_type": "markdown",
   "metadata": {},
   "source": [
    "falconn On One Image "
   ]
  },
  {
   "cell_type": "code",
   "execution_count": 13,
   "metadata": {},
   "outputs": [],
   "source": [
    "random_image_index = random.randint(0, num_images)"
   ]
  },
  {
   "cell_type": "code",
   "execution_count": 14,
   "metadata": {},
   "outputs": [
    {
     "name": "stdout",
     "output_type": "stream",
     "text": [
      "CPU times: user 30.5 ms, sys: 743 µs, total: 31.3 ms\n",
      "Wall time: 18.1 ms\n",
      "8.33 µs ± 2.11 µs per loop (mean ± std. dev. of 7 runs, 100000 loops each)\n"
     ]
    }
   ],
   "source": [
    "dataset = np.array(feature_list_compressed)\n",
    "a = np.random.randn(8677, 100)\n",
    "a /= np.linalg.norm(a, axis=1).reshape(-1, 1)\n",
    "dataset = a\n",
    "\n",
    "index = falconn.LSHIndex(parameters)\n",
    "%time index.setup(dataset)\n",
    "\n",
    "query_object = index.construct_query_object()\n",
    "num_probes = 1\n",
    "query_object.set_num_probes(num_probes)\n",
    "\n",
    "searchQuery = np.array(feature_list_compressed[random_image_index])\n",
    "searchQuery = a[0]\n",
    "%timeit query_object.find_k_nearest_neighbors(searchQuery, 5)"
   ]
  },
  {
   "cell_type": "markdown",
   "metadata": {},
   "source": [
    "On total images"
   ]
  },
  {
   "cell_type": "code",
   "execution_count": 15,
   "metadata": {},
   "outputs": [
    {
     "name": "stdout",
     "output_type": "stream",
     "text": [
      "7.79 µs ± 1.42 µs per loop (mean ± std. dev. of 7 runs, 100000 loops each)\n"
     ]
    }
   ],
   "source": [
    "searchQuery = np.array(feature_list_compressed)\n",
    "searchQuery = a[0]\n",
    "%timeit query_object.find_k_nearest_neighbors(searchQuery, 5)"
   ]
  },
  {
   "cell_type": "code",
   "execution_count": null,
   "metadata": {},
   "outputs": [],
   "source": []
  }
 ],
 "metadata": {
  "kernelspec": {
   "display_name": "Python 3",
   "language": "python",
   "name": "python3"
  },
  "language_info": {
   "codemirror_mode": {
    "name": "ipython",
    "version": 3
   },
   "file_extension": ".py",
   "mimetype": "text/x-python",
   "name": "python",
   "nbconvert_exporter": "python",
   "pygments_lexer": "ipython3",
   "version": "3.7.3"
  }
 },
 "nbformat": 4,
 "nbformat_minor": 2
}
