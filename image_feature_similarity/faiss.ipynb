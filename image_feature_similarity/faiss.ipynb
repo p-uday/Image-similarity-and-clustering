{
 "cells": [
  {
   "cell_type": "code",
   "execution_count": 1,
   "metadata": {},
   "outputs": [],
   "source": [
    "import numpy as np \n",
    "import faiss  # this will import the faiss library\n",
    "import pickle"
   ]
  },
  {
   "cell_type": "code",
   "execution_count": 17,
   "metadata": {},
   "outputs": [],
   "source": [
    "dimension = 128    # dimensions of each vector                         \n",
    "n = 200    # number of vectors                   \n",
    "np.random.seed(1)             \n",
    "db_vectors = np.random.random((n, dimension)).astype('float32')"
   ]
  },
  {
   "cell_type": "code",
   "execution_count": 2,
   "metadata": {},
   "outputs": [],
   "source": [
    "feature_list = pickle.load(open('data/features-caltech101-mobilenet.pickle',\n",
    "                                'rb'))"
   ]
  },
  {
   "cell_type": "code",
   "execution_count": 19,
   "metadata": {},
   "outputs": [],
   "source": [
    "feature_vector=np.array(feature_list)"
   ]
  },
  {
   "cell_type": "code",
   "execution_count": 21,
   "metadata": {},
   "outputs": [
    {
     "name": "stdout",
     "output_type": "stream",
     "text": [
      "[[0.02200209 0.         0.04104519 ... 0.03728114 0.00561679 0.04104519]\n",
      " [0.0400897  0.         0.02624381 ... 0.0400897  0.0400897  0.00638293]\n",
      " [0.04183481 0.02670559 0.04183481 ... 0.04183481 0.00678232 0.03945884]\n",
      " ...\n",
      " [0.04350879 0.04350879 0.03173753 ... 0.00580542 0.00348936 0.        ]\n",
      " [0.045225   0.         0.045225   ... 0.00128717 0.         0.        ]\n",
      " [0.02494188 0.         0.04943053 ... 0.0062112  0.         0.        ]]\n"
     ]
    }
   ],
   "source": [
    "print(feature_vector)"
   ]
  },
  {
   "cell_type": "code",
   "execution_count": 3,
   "metadata": {},
   "outputs": [
    {
     "name": "stdout",
     "output_type": "stream",
     "text": [
      "Number of features per image =  1024\n"
     ]
    }
   ],
   "source": [
    "num_features_per_image = len(feature_list[0])\n",
    "print(\"Number of features per image = \", num_features_per_image)"
   ]
  },
  {
   "cell_type": "code",
   "execution_count": 10,
   "metadata": {},
   "outputs": [],
   "source": [
    "nlist = 5  # number of clusters\n",
    "quantiser = faiss.IndexFlatL2(1024)  \n",
    "index = faiss.IndexIVFFlat(quantiser, 1024, nlist,   faiss.METRIC_L2)"
   ]
  },
  {
   "cell_type": "code",
   "execution_count": 23,
   "metadata": {},
   "outputs": [
    {
     "name": "stdout",
     "output_type": "stream",
     "text": [
      "True\n",
      "0\n",
      "True\n",
      "6410\n"
     ]
    }
   ],
   "source": [
    "print(index.is_trained)   # False\n",
    "index.train(feature_vector)  # train on the database vectors\n",
    "print(index.ntotal)   # 0\n",
    "index.add(feature_vector)   # add the vectors and update the index\n",
    "print(index.is_trained)  # True\n",
    "print(index.ntotal)   # 200"
   ]
  },
  {
   "cell_type": "code",
   "execution_count": 24,
   "metadata": {},
   "outputs": [],
   "source": [
    "nprobe = 2  # find 2 most similar clusters\n",
    "n_query = 10  \n",
    "k = 3  # return 3 nearest neighbours"
   ]
  },
  {
   "cell_type": "code",
   "execution_count": 25,
   "metadata": {},
   "outputs": [],
   "source": [
    "np.random.seed(0)   \n",
    "query_vectors = np.random.random((n_query, 1024)).astype('float32')\n",
    "distances, indices = index.search(query_vectors, k)"
   ]
  },
  {
   "cell_type": "code",
   "execution_count": 26,
   "metadata": {},
   "outputs": [
    {
     "name": "stdout",
     "output_type": "stream",
     "text": [
      "[[310.03036 310.05762 310.0994 ]\n",
      " [329.55942 329.73798 329.83386]\n",
      " [318.97223 319.0227  319.14825]\n",
      " [296.08185 296.13068 296.31976]\n",
      " [297.07477 297.1733  297.3188 ]\n",
      " [309.86896 310.03046 310.06778]\n",
      " [299.9505  299.9654  299.97272]\n",
      " [313.69592 313.8492  313.90985]\n",
      " [307.73154 308.03104 308.0703 ]\n",
      " [322.62918 322.6645  322.78223]]\n"
     ]
    }
   ],
   "source": [
    "print(distances)"
   ]
  },
  {
   "cell_type": "code",
   "execution_count": 27,
   "metadata": {},
   "outputs": [
    {
     "name": "stdout",
     "output_type": "stream",
     "text": [
      "[[ 238  154  246]\n",
      " [ 191   19 5180]\n",
      " [ 140  199  385]\n",
      " [ 191  140  156]\n",
      " [ 140  385  156]\n",
      " [ 421   22  140]\n",
      " [ 140  385  719]\n",
      " [ 191  865  859]\n",
      " [ 140  191  154]\n",
      " [ 191  140  246]]\n"
     ]
    }
   ],
   "source": [
    "print(indices)"
   ]
  },
  {
   "cell_type": "code",
   "execution_count": 38,
   "metadata": {},
   "outputs": [],
   "source": [
    "import glob\n",
    "import random\n",
    "import matplotlib\n",
    "import matplotlib.pyplot as plt\n",
    "import matplotlib.image as mpimg\n",
    "%matplotlib inline"
   ]
  },
  {
   "cell_type": "code",
   "execution_count": 30,
   "metadata": {},
   "outputs": [],
   "source": [
    "filenames = pickle.load(open('data/filenames-caltech101.pickle', 'rb'))"
   ]
  },
  {
   "cell_type": "code",
   "execution_count": 52,
   "metadata": {},
   "outputs": [],
   "source": [
    "def calculate_faiss_time():\n",
    "        distances, indices = index.search(feature_vector, 5)"
   ]
  },
  {
   "cell_type": "code",
   "execution_count": 53,
   "metadata": {},
   "outputs": [
    {
     "name": "stdout",
     "output_type": "stream",
     "text": [
      "1.92 s ± 61.6 ms per loop (mean ± std. dev. of 7 runs, 1 loop each)\n"
     ]
    }
   ],
   "source": [
    "%timeit calculate_faiss_time()"
   ]
  },
  {
   "cell_type": "code",
   "execution_count": null,
   "metadata": {},
   "outputs": [],
   "source": []
  }
 ],
 "metadata": {
  "kernelspec": {
   "display_name": "Python 3",
   "language": "python",
   "name": "python3"
  },
  "language_info": {
   "codemirror_mode": {
    "name": "ipython",
    "version": 3
   },
   "file_extension": ".py",
   "mimetype": "text/x-python",
   "name": "python",
   "nbconvert_exporter": "python",
   "pygments_lexer": "ipython3",
   "version": "3.7.3"
  }
 },
 "nbformat": 4,
 "nbformat_minor": 2
}
